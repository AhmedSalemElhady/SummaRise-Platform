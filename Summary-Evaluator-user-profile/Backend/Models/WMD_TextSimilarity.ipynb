{
  "nbformat": 4,
  "nbformat_minor": 0,
  "metadata": {
    "colab": {
      "name": "WMD_TextSimilarity.ipynb",
      "provenance": [],
      "collapsed_sections": [],
      "toc_visible": true
    },
    "kernelspec": {
      "name": "python3",
      "display_name": "Python 3"
    },
    "accelerator": "GPU"
  },
  "cells": [
    {
      "cell_type": "code",
      "metadata": {
        "id": "j7KYpxAK_-eQ",
        "colab_type": "code",
        "colab": {
          "base_uri": "https://localhost:8080/",
          "height": 156
        },
        "outputId": "2219711a-43e7-447d-a63f-955cc7130827"
      },
      "source": [
        "from sklearn.metrics import classification_report,confusion_matrix,mean_squared_error,accuracy_score,roc_auc_score,roc_curve\n",
        "from sklearn.linear_model import LogisticRegression \n",
        "from gensim.models import KeyedVectors\n",
        "import joblib \n",
        "import matplotlib.pyplot as  plt\n",
        "from collections import Counter\n",
        "from google.colab import drive\n",
        "import pandas as pd\n",
        "import numpy as np\n",
        "import random\n",
        "import string\n",
        "import math\n",
        "import re\n",
        "import nltk\n",
        "nltk.download(\"stopwords\")\n",
        "from nltk.corpus import stopwords\n",
        "\n",
        "drive.mount('/content/drive')"
      ],
      "execution_count": null,
      "outputs": [
        {
          "output_type": "stream",
          "text": [
            "[nltk_data] Downloading package stopwords to /root/nltk_data...\n",
            "[nltk_data]   Unzipping corpora/stopwords.zip.\n",
            "Go to this URL in a browser: https://accounts.google.com/o/oauth2/auth?client_id=947318989803-6bn6qk8qdgf4n4g3pfee6491hc0brc4i.apps.googleusercontent.com&redirect_uri=urn%3aietf%3awg%3aoauth%3a2.0%3aoob&response_type=code&scope=email%20https%3a%2f%2fwww.googleapis.com%2fauth%2fdocs.test%20https%3a%2f%2fwww.googleapis.com%2fauth%2fdrive%20https%3a%2f%2fwww.googleapis.com%2fauth%2fdrive.photos.readonly%20https%3a%2f%2fwww.googleapis.com%2fauth%2fpeopleapi.readonly\n",
            "\n",
            "Enter your authorization code:\n",
            "··········\n",
            "Mounted at /content/drive\n"
          ],
          "name": "stdout"
        }
      ]
    },
    {
      "cell_type": "markdown",
      "metadata": {
        "id": "JYURD9O2-CKT",
        "colab_type": "text"
      },
      "source": [
        "## Downloading Word2vec "
      ]
    },
    {
      "cell_type": "code",
      "metadata": {
        "id": "H-5ZPbaIRysR",
        "colab_type": "code",
        "colab": {
          "base_uri": "https://localhost:8080/",
          "height": 258
        },
        "outputId": "8b303610-4dab-413e-b072-f19ecfc6d166"
      },
      "source": [
        "!wget -P /root/input/ -c \"https://s3.amazonaws.com/dl4j-distribution/GoogleNews-vectors-negative300.bin.gz\"\n",
        "EMBEDDING_FILE = '/root/input/GoogleNews-vectors-negative300.bin.gz'\n",
        "word2vec = KeyedVectors.load_word2vec_format(EMBEDDING_FILE, binary=True)"
      ],
      "execution_count": null,
      "outputs": [
        {
          "output_type": "stream",
          "text": [
            "--2020-07-08 09:09:44--  https://s3.amazonaws.com/dl4j-distribution/GoogleNews-vectors-negative300.bin.gz\n",
            "Resolving s3.amazonaws.com (s3.amazonaws.com)... 52.217.11.86\n",
            "Connecting to s3.amazonaws.com (s3.amazonaws.com)|52.217.11.86|:443... connected.\n",
            "HTTP request sent, awaiting response... 200 OK\n",
            "Length: 1647046227 (1.5G) [application/x-gzip]\n",
            "Saving to: ‘/root/input/GoogleNews-vectors-negative300.bin.gz’\n",
            "\n",
            "GoogleNews-vectors- 100%[===================>]   1.53G  84.4MB/s    in 23s     \n",
            "\n",
            "2020-07-08 09:10:06 (69.6 MB/s) - ‘/root/input/GoogleNews-vectors-negative300.bin.gz’ saved [1647046227/1647046227]\n",
            "\n"
          ],
          "name": "stdout"
        },
        {
          "output_type": "stream",
          "text": [
            "/usr/local/lib/python3.6/dist-packages/smart_open/smart_open_lib.py:253: UserWarning: This function is deprecated, use smart_open.open instead. See the migration notes for details: https://github.com/RaRe-Technologies/smart_open/blob/master/README.rst#migrating-to-the-new-open-function\n",
            "  'See the migration notes for details: %s' % _MIGRATION_NOTES_URL\n"
          ],
          "name": "stderr"
        }
      ]
    },
    {
      "cell_type": "markdown",
      "metadata": {
        "id": "R7RWfFIE-bVB",
        "colab_type": "text"
      },
      "source": [
        "## Reading the dataset\n",
        "Read data from google drive that mounted before.\n",
        "\n",
        "you can download the data from  https://drive.google.com/file/u/4/d/1CUPi6nri5u21DbVYr0MfHSOVOLS2TlYs/view?usp=drive_open."
      ]
    },
    {
      "cell_type": "code",
      "metadata": {
        "id": "02la0rgs_-V9",
        "colab_type": "code",
        "colab": {
          "base_uri": "https://localhost:8080/",
          "height": 204
        },
        "outputId": "ab2e416a-ec2e-4251-fbe0-437b42ad29c3"
      },
      "source": [
        "data = pd.read_csv('drive/My Drive/DocumentSimilarity_Dataset.csv')\n",
        "data = data.sample(frac=1).reset_index(drop=True)\n",
        "\n",
        "data.head()"
      ],
      "execution_count": null,
      "outputs": [
        {
          "output_type": "execute_result",
          "data": {
            "text/html": [
              "<div>\n",
              "<style scoped>\n",
              "    .dataframe tbody tr th:only-of-type {\n",
              "        vertical-align: middle;\n",
              "    }\n",
              "\n",
              "    .dataframe tbody tr th {\n",
              "        vertical-align: top;\n",
              "    }\n",
              "\n",
              "    .dataframe thead th {\n",
              "        text-align: right;\n",
              "    }\n",
              "</style>\n",
              "<table border=\"1\" class=\"dataframe\">\n",
              "  <thead>\n",
              "    <tr style=\"text-align: right;\">\n",
              "      <th></th>\n",
              "      <th>articles</th>\n",
              "      <th>abstracts</th>\n",
              "      <th>similarity</th>\n",
              "    </tr>\n",
              "  </thead>\n",
              "  <tbody>\n",
              "    <tr>\n",
              "      <th>0</th>\n",
              "      <td>the sister of presidential assailant john hinc...</td>\n",
              "      <td>hospital staff makes release recommendations ...</td>\n",
              "      <td>1</td>\n",
              "    </tr>\n",
              "    <tr>\n",
              "      <th>1</th>\n",
              "      <td>rafael nadal's rivals take note  the spaniard ...</td>\n",
              "      <td>an explosion hit a soccer viewing center in da...</td>\n",
              "      <td>0</td>\n",
              "    </tr>\n",
              "    <tr>\n",
              "      <th>2</th>\n",
              "      <td>the kurdish bloc in the iraqi parliament inten...</td>\n",
              "      <td>red cross reports people being burned alive . ...</td>\n",
              "      <td>0</td>\n",
              "    </tr>\n",
              "    <tr>\n",
              "      <th>3</th>\n",
              "      <td>a most awkward and revealing situation has eme...</td>\n",
              "      <td>bill aims to curb online ammo sales, though el...</td>\n",
              "      <td>0</td>\n",
              "    </tr>\n",
              "    <tr>\n",
              "      <th>4</th>\n",
              "      <td>a maryland mother faces assault charges for al...</td>\n",
              "      <td>kimberley lyn cudanin told son and his friends...</td>\n",
              "      <td>1</td>\n",
              "    </tr>\n",
              "  </tbody>\n",
              "</table>\n",
              "</div>"
            ],
            "text/plain": [
              "                                            articles  ... similarity\n",
              "0  the sister of presidential assailant john hinc...  ...          1\n",
              "1  rafael nadal's rivals take note  the spaniard ...  ...          0\n",
              "2  the kurdish bloc in the iraqi parliament inten...  ...          0\n",
              "3  a most awkward and revealing situation has eme...  ...          0\n",
              "4  a maryland mother faces assault charges for al...  ...          1\n",
              "\n",
              "[5 rows x 3 columns]"
            ]
          },
          "metadata": {
            "tags": []
          },
          "execution_count": 3
        }
      ]
    },
    {
      "cell_type": "markdown",
      "metadata": {
        "id": "zYHMzuEz-3h8",
        "colab_type": "text"
      },
      "source": [
        "splitting the dataset "
      ]
    },
    {
      "cell_type": "code",
      "metadata": {
        "id": "wrbNL6RGFGu2",
        "colab_type": "code",
        "colab": {}
      },
      "source": [
        "size_of_training_data = 1200\n",
        "f =  int(size_of_training_data/3)\n",
        "def split(dt):\n",
        "  size = len(dt)\n",
        "  train = dt[:size_of_training_data,].reset_index(drop=True)\n",
        "  val = dt[size_of_training_data:size_of_training_data+f,].reset_index(drop=True)\n",
        "  test = dt[size_of_training_data+f:size_of_training_data+2*f,].reset_index(drop=True)\n",
        "  return train,val,test"
      ],
      "execution_count": null,
      "outputs": []
    },
    {
      "cell_type": "code",
      "metadata": {
        "id": "N9qVFt_2_-Pz",
        "colab_type": "code",
        "colab": {
          "base_uri": "https://localhost:8080/",
          "height": 68
        },
        "outputId": "6e4b3fbb-5607-4e6f-c34f-6b41fc15e85e"
      },
      "source": [
        "data = data.sample(frac=1).reset_index(drop=True)\n",
        "\n",
        "train1 = data['articles'].astype('str')\n",
        "train2 = data['abstracts'].astype('str')\n",
        "labels = data['similarity']\n",
        "\n",
        "\n",
        "article, article_val, article_test = split(train1)\n",
        "summary, summary_val, summary_test = split(train2)\n",
        "labels, val_label, test_label = split(labels)\n",
        "print(\"size of training data : \",article.shape[0])\n",
        "print(\"size of validating data : \",summary_val.shape[0])\n",
        "print(\"size of testing data : \",test_label.shape[0])"
      ],
      "execution_count": null,
      "outputs": [
        {
          "output_type": "stream",
          "text": [
            "size of training data :  1200\n",
            "size of validating data :  400\n",
            "size of testing data :  400\n"
          ],
          "name": "stdout"
        }
      ]
    },
    {
      "cell_type": "markdown",
      "metadata": {
        "id": "zu9yupMsBDNa",
        "colab_type": "text"
      },
      "source": [
        "## Feature Engineering\n",
        "#### 1. Cosine Similarity\n",
        "Cosine similarity is a measure of similarity between two non-zero vectors of an inner product space that measures the cosine of the angle between them.\n",
        "\n",
        "![Alt Text](https://i.imgur.com/HqKjGoQ.jpg)\n",
        "\n",
        "\n",
        "#### 2. Word Mover's Distance\n",
        "Word Mover's Distance (WMD) uses the word embeddings of the words in two texts to measure the minimum distance that the words in one text need to travel in semantic space to reach the words in the other text.\n",
        "\n",
        "The WMD is measured by measuring the minimum distance between each word in the two documents in word2vec space. if the distance is small then words in the two documents are close to each other.\n",
        "\n",
        "So, If I have the same two sentences:\n",
        "- sentence 1: \"Obama speaks to the media in Illinois\"\n",
        "- sentence 2: \"The president greets the press in Chicago\"\n",
        "\n",
        "After removing stopwords, The word mover distance is small as mentioned in the figure.\n",
        "\n",
        "\n",
        "![Alt Text](https://imgur.com/L1QNfPK.jpg)"
      ]
    },
    {
      "cell_type": "code",
      "metadata": {
        "id": "h5y108zE_-O-",
        "colab_type": "code",
        "colab": {}
      },
      "source": [
        "WORD = re.compile(r\"\\w+\")\n",
        "\n",
        "def text_to_vector(text):\n",
        "    '''\n",
        "        converting the document to a term matrix where all words are listed and beside it the frequency of it.\n",
        "\n",
        "        -- input:\n",
        "                    text: the document as string \n",
        "        -- output:\n",
        "                    Term matrix: Each word in the two documents and its frequency \n",
        "    '''\n",
        "    words = WORD.findall(text)\n",
        "    stopwords = nltk.corpus.stopwords.words('english')\n",
        "    words = [w for w in words if w not in stopwords]\n",
        "    return Counter(words)\n",
        "\n",
        "def get_cosine(doc1, doc2):\n",
        "    '''\n",
        "        Get the cosine similarity between two documents.\n",
        "        Depends on the angle between two non zero vectors which are constructed by each word frequency in the two documents.\n",
        "\n",
        "        -- input:\n",
        "                      doc1: the first document as string\n",
        "                      doc2: the second document as string\n",
        "        -- output:\n",
        "                      cosine similarity score\n",
        "\n",
        "    '''\n",
        "    vec1 = text_to_vector(doc1)\n",
        "    vec2 = text_to_vector(doc2)\n",
        "    intersection = set(vec1.keys()) & set(vec2.keys())\n",
        "    numerator = sum([vec1[x] * vec2[x] for x in intersection])\n",
        "\n",
        "    sum1 = sum([vec1[x] ** 2 for x in list(vec1.keys())])\n",
        "    sum2 = sum([vec2[x] ** 2 for x in list(vec2.keys())])\n",
        "    denominator = math.sqrt(sum1) * math.sqrt(sum2)\n",
        "\n",
        "    if not denominator:\n",
        "        return 0.0\n",
        "    else:\n",
        "        return float(numerator) / denominator\n",
        "        \n",
        "def wordMdistance(doc1,doc2):\n",
        "  '''\n",
        "      return the word mover distance between two documents \n",
        "\n",
        "      -- input:\n",
        "                      doc1: the first document as list of words\n",
        "                      doc2: the second document as list of words\n",
        "      -- output:\n",
        "                      Word Mover's Distance score\n",
        "  '''\n",
        "  sum_dist = 0\n",
        "  i = 0\n",
        "  for word in sent1:\n",
        "    mindist = 1000.0\n",
        "    for word2 in sent2:\n",
        "      try:\n",
        "        j = np.copy(word2vec.get_vector(word))\n",
        "        t = np.copy(word2vec.get_vector(word2))\n",
        "        dista = np.sqrt(sum((j-t)**2))\n",
        "        if(dista < mindist):\n",
        "          mindist = dista\n",
        "      except:\n",
        "        continue\n",
        "    sum_dist+=mindist\n",
        "    i+=1\n",
        "  return sum_dist/i\n",
        "\n",
        "def WMD(doc1,doc2):\n",
        "  '''\n",
        "      Preprocess the document first and remove english stopwords then call the function that calculates the word mover distance\n",
        "     \n",
        "      -- input:\n",
        "                      doc1: the first document as string\n",
        "                      doc2: the second document as string\n",
        "      -- output:\n",
        "                      Word Mover's Distance score\n",
        "  '''\n",
        "  first_doc = doc1.lower().split()\n",
        "  second_doc = doc2.lower().split()\n",
        "  stopwords = nltk.corpus.stopwords.words('english')\n",
        "  first_doc = [w for w in first_doc if w not in stopwords]\n",
        "  second_doc = [w for w in second_doc if w not in stopwords]\n",
        "  return (word2vec.wmdistance(second_doc, first_doc))"
      ],
      "execution_count": null,
      "outputs": []
    },
    {
      "cell_type": "markdown",
      "metadata": {
        "id": "_6x51uGwD0lR",
        "colab_type": "text"
      },
      "source": [
        "*Extracting features from training data*"
      ]
    },
    {
      "cell_type": "code",
      "metadata": {
        "id": "eBhPEE49ke-2",
        "colab_type": "code",
        "colab": {}
      },
      "source": [
        "training = pd.DataFrame({\"article\":article,\"summary\":summary})\n",
        "training['Cosine'] = training.apply(lambda row: get_cosine(row['article'],row['summary']), axis=1)\n",
        "training['WMD'] = training.apply(lambda row: WMD(row['article'],row['summary']), axis=1)\n",
        "del training['article']\n",
        "del training['summary']"
      ],
      "execution_count": null,
      "outputs": []
    },
    {
      "cell_type": "markdown",
      "metadata": {
        "id": "C5YDivLBEKiv",
        "colab_type": "text"
      },
      "source": [
        "*Extracting features from validating data*"
      ]
    },
    {
      "cell_type": "code",
      "metadata": {
        "id": "zBQi306tmPLV",
        "colab_type": "code",
        "colab": {}
      },
      "source": [
        "validation = pd.DataFrame({\"article\":article_val,\"summary\":summary_val})\n",
        "validation['Cosine'] = validation.apply(lambda row: get_cosine(row['article'],row['summary']), axis=1)\n",
        "validation['WMD'] = validation.apply(lambda row: WMD(row['article'],row['summary']), axis=1)\n",
        "del validation['article']\n",
        "del validation['summary']"
      ],
      "execution_count": null,
      "outputs": []
    },
    {
      "cell_type": "markdown",
      "metadata": {
        "id": "pwhf0ZmyENi-",
        "colab_type": "text"
      },
      "source": [
        "*Extracting features from testing data*"
      ]
    },
    {
      "cell_type": "code",
      "metadata": {
        "id": "J33aDol2mamT",
        "colab_type": "code",
        "colab": {}
      },
      "source": [
        "testing = pd.DataFrame({\"article\":article_test,\"summary\":summary_test})\n",
        "testing['Cosine'] = testing.apply(lambda row: get_cosine(row['article'],row['summary']), axis=1)\n",
        "testing['WMD'] = testing.apply(lambda row: WMD(row['article'],row['summary']), axis=1)\n",
        "del testing['article']\n",
        "del testing['summary']"
      ],
      "execution_count": null,
      "outputs": []
    },
    {
      "cell_type": "markdown",
      "metadata": {
        "id": "PWs5RNtVEVTV",
        "colab_type": "text"
      },
      "source": [
        "## Model Building\n",
        "\n",
        "**Logistic regression** is used for two reasons. \n",
        "- First, the dataset has two classes as output 0 or 1 (similar or not). \n",
        "- Second, Logistic regression outputs probability which is the main task to produce similarity score.\n"
      ]
    },
    {
      "cell_type": "code",
      "metadata": {
        "id": "loLT2cYnMDp9",
        "colab_type": "code",
        "colab": {
          "base_uri": "https://localhost:8080/",
          "height": 102
        },
        "outputId": "9406cfc0-0c9b-47ea-a05e-0768ddf8d6a8"
      },
      "source": [
        "classifier = LogisticRegression(random_state = 0) \n",
        "classifier.fit(training, labels)"
      ],
      "execution_count": null,
      "outputs": [
        {
          "output_type": "execute_result",
          "data": {
            "text/plain": [
              "LogisticRegression(C=1.0, class_weight=None, dual=False, fit_intercept=True,\n",
              "                   intercept_scaling=1, l1_ratio=None, max_iter=100,\n",
              "                   multi_class='auto', n_jobs=None, penalty='l2',\n",
              "                   random_state=0, solver='lbfgs', tol=0.0001, verbose=0,\n",
              "                   warm_start=False)"
            ]
          },
          "metadata": {
            "tags": []
          },
          "execution_count": 28
        }
      ]
    },
    {
      "cell_type": "markdown",
      "metadata": {
        "id": "rkb5mLonEruZ",
        "colab_type": "text"
      },
      "source": [
        "The **coefficient** of the model is about **-6 for WMD** which makes sense as the documents are similar when the WMD is small, and about **9 for cosine similarity** which also makes sense as cosine similarity has a bigger effect. when there are some similar words then the documents tend to be similar."
      ]
    },
    {
      "cell_type": "code",
      "metadata": {
        "id": "RuSKKwMrMDly",
        "colab_type": "code",
        "colab": {
          "base_uri": "https://localhost:8080/",
          "height": 34
        },
        "outputId": "6abac2a6-192e-43e5-eacb-20926e93ecb1"
      },
      "source": [
        "print(classifier.coef_, classifier.intercept_)\n",
        "import pickle\n",
        "filename = 'LR2.pkl'\n",
        "pickle.dump(classifier, open(filename, 'wb'))\n"
      ],
      "execution_count": null,
      "outputs": [
        {
          "output_type": "stream",
          "text": [
            "[[11.34428439 -6.12561357]] [16.95375228]\n"
          ],
          "name": "stdout"
        }
      ]
    },
    {
      "cell_type": "code",
      "metadata": {
        "id": "ow2eKIpDYRkF",
        "colab_type": "code",
        "colab": {
          "base_uri": "https://localhost:8080/",
          "height": 34
        },
        "outputId": "7b152501-5390-4634-9021-0f0c7f500373"
      },
      "source": [
        "testing = pd.DataFrame({\"article\":['The tourism industry, as part of the service sector,[17] has become an important source of income for many regions and even for entire countries. The Manila Declaration on World Tourism of 1980 recognized its importance as \"an activity essential to the life of nations because of its direct effects on the social, cultural, educational, and economic sectors of national societies, and on their international relations.Tourism brings large amounts of income into a local economy in the form of payment for goods and services needed by tourists, accounting as of 2011 for 30% of the worlds trade in services, and, as an invisible export, for 6% of overall exports of goods and services.[6] It also generates opportunities for employment in the service sector of the economy associated with tourism.The hospitality industries which benefit from tourism include transportation services (such as airlines, cruise ships, trains and taxicabs); lodging (including hotels, hostels, homestays, resorts and renting out rooms); and entertainment venues (such as amusement parks, restaurants, casinos, shopping malls, music venues, and theatres). This is in addition to goods bought by tourists, including souvenirs.On the flip-side, tourism can degrade people[20] and sour relationships between host and guest.[21]'] ,\n",
        "                        \"summary\":['On the flip-side, tourism can degrade people[20] and sour relationships between host and guest.[21]']})\n",
        "testing['Cosine'] = testing.apply(lambda row: get_cosine(row['article'],row['summary']), axis=1)\n",
        "testing['WMD'] = testing.apply(lambda row: WMD(row['article'],row['summary']), axis=1)\n",
        "del testing['article']\n",
        "del testing['summary']\n",
        "classifier.predict_proba(testing)[0,1]*100"
      ],
      "execution_count": null,
      "outputs": [
        {
          "output_type": "execute_result",
          "data": {
            "text/plain": [
              "54.59941800191629"
            ]
          },
          "metadata": {
            "tags": []
          },
          "execution_count": 29
        }
      ]
    },
    {
      "cell_type": "markdown",
      "metadata": {
        "id": "MH-1EpWUlNWl",
        "colab_type": "text"
      },
      "source": [
        "## Results"
      ]
    },
    {
      "cell_type": "code",
      "metadata": {
        "id": "pkqVIDFKVaII",
        "colab_type": "code",
        "colab": {
          "base_uri": "https://localhost:8080/",
          "height": 34
        },
        "outputId": "7c9bc6ce-49be-495b-bde7-a2f75fe73be2"
      },
      "source": [
        "accuracy_score(val_label, classifier.predict(validation))*100"
      ],
      "execution_count": null,
      "outputs": [
        {
          "output_type": "execute_result",
          "data": {
            "text/plain": [
              "99.0"
            ]
          },
          "metadata": {
            "tags": []
          },
          "execution_count": 29
        }
      ]
    },
    {
      "cell_type": "code",
      "metadata": {
        "id": "8d_c9EJWWE26",
        "colab_type": "code",
        "colab": {
          "base_uri": "https://localhost:8080/",
          "height": 34
        },
        "outputId": "28dcc54d-9c7d-49b2-f5eb-9478103d19da"
      },
      "source": [
        "mean_squared_error(val_label, classifier.predict_proba(validation)[:,1])"
      ],
      "execution_count": null,
      "outputs": [
        {
          "output_type": "execute_result",
          "data": {
            "text/plain": [
              "0.014337177258223654"
            ]
          },
          "metadata": {
            "tags": []
          },
          "execution_count": 30
        }
      ]
    },
    {
      "cell_type": "code",
      "metadata": {
        "id": "bpsZLLxbmam1",
        "colab_type": "code",
        "colab": {
          "base_uri": "https://localhost:8080/",
          "height": 68
        },
        "outputId": "55dfb6a4-c39b-4427-81d4-306042c97dca"
      },
      "source": [
        "cm = confusion_matrix(val_label, classifier.predict(validation)) \n",
        "print (\"Confusion Matrix : \\n\", cm) "
      ],
      "execution_count": null,
      "outputs": [
        {
          "output_type": "stream",
          "text": [
            "Confusion Matrix : \n",
            " [[183   8]\n",
            " [ 14 195]]\n"
          ],
          "name": "stdout"
        }
      ]
    },
    {
      "cell_type": "code",
      "metadata": {
        "id": "Hnmp2wiItfus",
        "colab_type": "code",
        "colab": {
          "base_uri": "https://localhost:8080/",
          "height": 279
        },
        "outputId": "316a4837-20ea-4278-c433-da26cb5a543c"
      },
      "source": [
        "logit_roc_auc = roc_auc_score(val_label, classifier.predict(validation))\n",
        "fpr, tpr, thresholds = roc_curve(val_label, classifier.predict_proba(validation)[:,1])\n",
        "plt.figure()\n",
        "plt.plot(fpr, tpr, label='Logistic Regression (area = %0.2f)' % logit_roc_auc)\n",
        "plt.plot([0, 1], [0, 1],'r--')\n",
        "plt.xlim([0.0, 1.0])\n",
        "plt.ylim([0.0, 1.05])\n",
        "plt.xlabel('False Positive Rate')\n",
        "plt.ylabel('True Positive Rate')\n",
        "plt.legend(loc=\"lower right\")\n",
        "plt.savefig('Log_ROC')\n",
        "plt.show()"
      ],
      "execution_count": null,
      "outputs": [
        {
          "output_type": "display_data",
          "data": {
            "image/png": "[encoded data removed]",
            "text/plain": [
              "<Figure size 432x288 with 1 Axes>"
            ]
          },
          "metadata": {
            "tags": [],
            "needs_background": "light"
          }
        }
      ]
    },
    {
      "cell_type": "code",
      "metadata": {
        "id": "D5PuylScyqKd",
        "colab_type": "code",
        "colab": {
          "base_uri": "https://localhost:8080/",
          "height": 170
        },
        "outputId": "5fca4807-0c0c-4d61-fe06-f40fc9d62e8d"
      },
      "source": [
        "print(classification_report(classifier.predict(validation), val_label))"
      ],
      "execution_count": null,
      "outputs": [
        {
          "output_type": "stream",
          "text": [
            "              precision    recall  f1-score   support\n",
            "\n",
            "           0       1.00      0.98      0.99       221\n",
            "           1       0.98      1.00      0.99       179\n",
            "\n",
            "    accuracy                           0.99       400\n",
            "   macro avg       0.99      0.99      0.99       400\n",
            "weighted avg       0.99      0.99      0.99       400\n",
            "\n"
          ],
          "name": "stdout"
        }
      ]
    }
  ]
}